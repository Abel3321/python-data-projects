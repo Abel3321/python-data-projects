{
 "cells": [
  {
   "cell_type": "markdown",
   "id": "5bb17f1b",
   "metadata": {},
   "source": [
    "# Python Basics for Data Analysis\n",
    "This beginner-level notebook includes examples of Python and pandas for basic data analysis.\n",
    "Created by: Beginner Data Scientist\n",
    "Date: 2025-05-24\n"
   ]
  },
  {
   "cell_type": "code",
   "execution_count": null,
   "id": "34dfc0d3",
   "metadata": {},
   "outputs": [],
   "source": [
    "# Basic Python\n",
    "x = 5\n",
    "y = 3\n",
    "print('Sum:', x + y)"
   ]
  },
  {
   "cell_type": "code",
   "execution_count": null,
   "id": "69f7504d",
   "metadata": {},
   "outputs": [],
   "source": [
    "# Lists and loops\n",
    "fruits = ['apple', 'banana', 'cherry']\n",
    "for fruit in fruits:\n",
    "    print(fruit)"
   ]
  },
  {
   "cell_type": "code",
   "execution_count": null,
   "id": "6ae64061",
   "metadata": {},
   "outputs": [],
   "source": [
    "# Functions\n",
    "def greet(name):\n",
    "    return f'Hello, {name}!'\n",
    "\n",
    "greet('Data Scientist')"
   ]
  },
  {
   "cell_type": "markdown",
   "id": "dc8b3fdd",
   "metadata": {},
   "source": [
    "## Working with pandas"
   ]
  },
  {
   "cell_type": "code",
   "execution_count": null,
   "id": "3783d12b",
   "metadata": {},
   "outputs": [],
   "source": [
    "import pandas as pd\n",
    "\n",
    "data = {'Name': ['Alice', 'Bob', 'Charlie'],\n",
    "        'Age': [25, 30, 35],\n",
    "        'City': ['NY', 'LA', 'Chicago']}\n",
    "\n",
    "df = pd.DataFrame(data)\n",
    "df"
   ]
  },
  {
   "cell_type": "code",
   "execution_count": null,
   "id": "2e9697ab",
   "metadata": {},
   "outputs": [],
   "source": [
    "# Filter data\n",
    "adults = df[df['Age'] > 28]\n",
    "adults"
   ]
  },
  {
   "cell_type": "code",
   "execution_count": null,
   "id": "728e31dc",
   "metadata": {},
   "outputs": [],
   "source": [
    "# Summary statistics\n",
    "df.describe()"
   ]
  }
 ],
 "metadata": {},
 "nbformat": 4,
 "nbformat_minor": 5
}
